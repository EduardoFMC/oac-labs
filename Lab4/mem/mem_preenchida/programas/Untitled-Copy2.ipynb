{
 "cells": [
  {
   "cell_type": "code",
   "execution_count": 3,
   "metadata": {},
   "outputs": [],
   "source": [
    "# 4096 endereços na memória. Começa a escrever a partir da memória em 1024"
   ]
  },
  {
   "cell_type": "code",
   "execution_count": 30,
   "metadata": {},
   "outputs": [],
   "source": [
    "file_mem = open(\"testes_v3_mem\", \"r\").readlines()"
   ]
  },
  {
   "cell_type": "code",
   "execution_count": 31,
   "metadata": {},
   "outputs": [],
   "source": [
    "file_mem_m = [[a.replace(\"\\n\", \"\")[0:4], a.replace(\"\\n\", \"\")[4:8]] for a in file_mem]"
   ]
  },
  {
   "cell_type": "code",
   "execution_count": 32,
   "metadata": {},
   "outputs": [],
   "source": [
    "file_mem_m = [\" \".join(a) for a in file_mem_m]"
   ]
  },
  {
   "cell_type": "code",
   "execution_count": 33,
   "metadata": {},
   "outputs": [],
   "source": [
    "splitted_instrucoes = [i.split(\" \") for i in file_mem_m]"
   ]
  },
  {
   "cell_type": "code",
   "execution_count": 34,
   "metadata": {},
   "outputs": [
    {
     "data": {
      "text/plain": [
       "[['0000', '0297'],\n",
       " ['0040', '0337'],\n",
       " ['0000', '0597'],\n",
       " ['03c0', '00ef'],\n",
       " ['0000', '0293'],\n",
       " ['0010', '0313'],\n",
       " ['03c0', '00ef'],\n",
       " ['0000', '0597'],\n",
       " ['0280', '00ef'],\n",
       " ['0000', '0397'],\n",
       " ['00c3', '8067'],\n",
       " ['0010', '0313'],\n",
       " ['0000', '0597'],\n",
       " ['0140', '00ef'],\n",
       " ['0000', '00ef'],\n",
       " ['eeee', 'f537'],\n",
       " ['eee5', '0513'],\n",
       " ['ff5f', 'f0ef'],\n",
       " ['0062', '8463'],\n",
       " ['ff1f', 'f0ef'],\n",
       " ['0000', '8067'],\n",
       " ['0000', '0313'],\n",
       " ['0000', '8067']]"
      ]
     },
     "execution_count": 34,
     "metadata": {},
     "output_type": "execute_result"
    }
   ],
   "source": [
    "splitted_instrucoes"
   ]
  },
  {
   "cell_type": "code",
   "execution_count": 35,
   "metadata": {},
   "outputs": [],
   "source": [
    "memoria_geral_1 = [\"FFFF\"]*1016\n",
    "memoria_geral_2 = [\"FFFF\"]*1016"
   ]
  },
  {
   "cell_type": "code",
   "execution_count": 36,
   "metadata": {},
   "outputs": [
    {
     "name": "stdout",
     "output_type": "stream",
     "text": [
      "0\n",
      "1\n",
      "2\n",
      "3\n",
      "4\n",
      "5\n",
      "6\n",
      "7\n",
      "8\n",
      "9\n",
      "10\n",
      "11\n",
      "12\n",
      "13\n",
      "14\n",
      "15\n",
      "16\n",
      "17\n",
      "18\n",
      "19\n",
      "20\n",
      "21\n",
      "22\n"
     ]
    }
   ],
   "source": [
    "address_filling = 0\n",
    "\n",
    "for i in range(len(splitted_instrucoes)):\n",
    "    print(address_filling)\n",
    "    \n",
    "    memoria_geral_1[address_filling] = splitted_instrucoes[i][0]\n",
    "    memoria_geral_2[address_filling] = splitted_instrucoes[i][1]\n",
    "    address_filling += 1"
   ]
  },
  {
   "cell_type": "code",
   "execution_count": 37,
   "metadata": {},
   "outputs": [],
   "source": [
    "import numpy as np"
   ]
  },
  {
   "cell_type": "code",
   "execution_count": 38,
   "metadata": {},
   "outputs": [],
   "source": [
    "memoria_geral_1_f = np.array_split(memoria_geral_1, 512)\n",
    "memoria_geral_2_f = np.array_split(memoria_geral_2, 512)"
   ]
  },
  {
   "cell_type": "code",
   "execution_count": 39,
   "metadata": {},
   "outputs": [],
   "source": [
    "memoria_geral_1_f = \"\\n\".join([\" \".join(list(a)) for a in memoria_geral_1_f])\n",
    "memoria_geral_2_f = \"\\n\".join([\" \".join(list(a)) for a in memoria_geral_2_f])"
   ]
  },
  {
   "cell_type": "code",
   "execution_count": 40,
   "metadata": {},
   "outputs": [],
   "source": [
    "memoria_geral_1_f = \"#------------------------------------------------------------\\n#- Deeds (Digital Electronics Education and Design Suite)\\n#- Rom Contents Saved on (4/5/2022, 1:47:00 PM)\\n#-      by Deeds (Digital Circuit Simulator)(Deeds-DcS)\\n#-      Ver. 2.50.200 (Feb 18, 2022)\\n#- Copyright (c) 2002-2022 University of Genoa, Italy\\n#-      Web Site:  https://www.digitalelectronicsdeeds.com\\n#------------------------------------------------------------\\n#R ROM4Kx16, id 031F\\n#- Deeds Rom Source Format (*.drs)\\n\\n#A 0000h\\n#H\\n\\n\" + memoria_geral_1_f\n",
    "memoria_geral_2_f = \"#------------------------------------------------------------\\n#- Deeds (Digital Electronics Education and Design Suite)\\n#- Rom Contents Saved on (4/5/2022, 1:47:00 PM)\\n#-      by Deeds (Digital Circuit Simulator)(Deeds-DcS)\\n#-      Ver. 2.50.200 (Feb 18, 2022)\\n#- Copyright (c) 2002-2022 University of Genoa, Italy\\n#-      Web Site:  https://www.digitalelectronicsdeeds.com\\n#------------------------------------------------------------\\n#R ROM4Kx16, id 031F\\n#- Deeds Rom Source Format (*.drs)\\n\\n#A 0000h\\n#H\\n\\n\" + memoria_geral_2_f"
   ]
  },
  {
   "cell_type": "code",
   "execution_count": 41,
   "metadata": {},
   "outputs": [],
   "source": [
    "text_file_1 = open(\"testes_v3_mem_msb.drs\", \"w\")\n",
    "text_file_1.write(memoria_geral_1_f)\n",
    "text_file_1.close()"
   ]
  },
  {
   "cell_type": "code",
   "execution_count": 42,
   "metadata": {},
   "outputs": [],
   "source": [
    "text_file_2 = open(\"testes_v3_mem_lsb.drs\", \"w\")\n",
    "text_file_2.write(memoria_geral_2_f)\n",
    "text_file_2.close()"
   ]
  },
  {
   "cell_type": "code",
   "execution_count": null,
   "metadata": {},
   "outputs": [],
   "source": []
  }
 ],
 "metadata": {
  "kernelspec": {
   "display_name": "Python 3",
   "language": "python",
   "name": "python3"
  },
  "language_info": {
   "codemirror_mode": {
    "name": "ipython",
    "version": 3
   },
   "file_extension": ".py",
   "mimetype": "text/x-python",
   "name": "python",
   "nbconvert_exporter": "python",
   "pygments_lexer": "ipython3",
   "version": "3.8.10"
  }
 },
 "nbformat": 4,
 "nbformat_minor": 4
}
