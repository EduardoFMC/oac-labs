{
 "cells": [
  {
   "cell_type": "code",
   "execution_count": 3,
   "metadata": {},
   "outputs": [],
   "source": [
    "# 4096 endereços na memória. Começa a escrever a partir da memória em 1024"
   ]
  },
  {
   "cell_type": "code",
   "execution_count": 4,
   "metadata": {},
   "outputs": [],
   "source": [
    "file_mem = open(\"testes_v1_mem\", \"r\").readlines()"
   ]
  },
  {
   "cell_type": "code",
   "execution_count": 5,
   "metadata": {},
   "outputs": [],
   "source": [
    "file_mem_m = [[a.replace(\"\\n\", \"\")[0:4], a.replace(\"\\n\", \"\")[4:8]] for a in file_mem]"
   ]
  },
  {
   "cell_type": "code",
   "execution_count": 6,
   "metadata": {},
   "outputs": [],
   "source": [
    "file_mem_m = [\" \".join(a) for a in file_mem_m]"
   ]
  },
  {
   "cell_type": "code",
   "execution_count": 7,
   "metadata": {},
   "outputs": [],
   "source": [
    "splitted_instrucoes = [i.split(\" \") for i in file_mem_m]"
   ]
  },
  {
   "cell_type": "code",
   "execution_count": 8,
   "metadata": {},
   "outputs": [
    {
     "data": {
      "text/plain": [
       "[['0020', '0293'],\n",
       " ['0020', '0313'],\n",
       " ['0000', '0597'],\n",
       " ['1280', '00ef'],\n",
       " ['0000', '02b7'],\n",
       " ['ffe0', '0393'],\n",
       " ['0073', '0333'],\n",
       " ['0000', '0597'],\n",
       " ['1140', '00ef'],\n",
       " ['0010', '0313'],\n",
       " ['0010', '0393'],\n",
       " ['4073', '0333'],\n",
       " ['0000', '0597'],\n",
       " ['1000', '00ef'],\n",
       " ['fff0', '0293'],\n",
       " ['fff0', '0313'],\n",
       " ['fff0', '0393'],\n",
       " ['0073', '7333'],\n",
       " ['0000', '0597'],\n",
       " ['0e80', '00ef'],\n",
       " ['0000', '02b7'],\n",
       " ['0003', '7313'],\n",
       " ['0000', '0597'],\n",
       " ['0d80', '00ef'],\n",
       " ['fff0', '0293'],\n",
       " ['0000', '0337'],\n",
       " ['0053', '6333'],\n",
       " ['0000', '0597'],\n",
       " ['0c40', '00ef'],\n",
       " ['0000', '0337'],\n",
       " ['fff3', '6313'],\n",
       " ['0000', '0597'],\n",
       " ['0b40', '00ef'],\n",
       " ['0040', '0293'],\n",
       " ['0010', '0313'],\n",
       " ['0020', '0393'],\n",
       " ['0073', '1333'],\n",
       " ['0000', '0597'],\n",
       " ['09c0', '00ef'],\n",
       " ['0080', '0293'],\n",
       " ['0010', '0313'],\n",
       " ['0033', '1313'],\n",
       " ['0000', '0597'],\n",
       " ['0880', '00ef'],\n",
       " ['0010', '0293'],\n",
       " ['0000', '0337'],\n",
       " ['fff0', '0393'],\n",
       " ['0063', 'a333'],\n",
       " ['0000', '0597'],\n",
       " ['0700', '00ef'],\n",
       " ['0000', '02b7'],\n",
       " ['0000', '0337'],\n",
       " ['0003', '2313'],\n",
       " ['0000', '0597'],\n",
       " ['05c0', '00ef'],\n",
       " ['0010', '0293'],\n",
       " ['fff3', '3313'],\n",
       " ['0000', '0597'],\n",
       " ['04c0', '00ef'],\n",
       " ['0000', '02b7'],\n",
       " ['fff0', '0313'],\n",
       " ['ffe0', '0393'],\n",
       " ['0073', '3333'],\n",
       " ['0000', '0597'],\n",
       " ['0340', '00ef'],\n",
       " ['1001', '03b7'],\n",
       " ['0003', '8393'],\n",
       " ['fff0', '0293'],\n",
       " ['fff0', '0313'],\n",
       " ['0063', 'a023'],\n",
       " ['0003', 'a303'],\n",
       " ['0000', '0597'],\n",
       " ['0140', '00ef'],\n",
       " ['0000', '00ef'],\n",
       " ['eeee', 'f537'],\n",
       " ['eee5', '0513'],\n",
       " ['ff5f', 'f0ef'],\n",
       " ['0062', '8463'],\n",
       " ['ff1f', 'f0ef'],\n",
       " ['0000', '8067']]"
      ]
     },
     "execution_count": 8,
     "metadata": {},
     "output_type": "execute_result"
    }
   ],
   "source": [
    "splitted_instrucoes"
   ]
  },
  {
   "cell_type": "code",
   "execution_count": 9,
   "metadata": {},
   "outputs": [],
   "source": [
    "memoria_geral_1 = [\"FFFF\"]*1016\n",
    "memoria_geral_2 = [\"FFFF\"]*1016"
   ]
  },
  {
   "cell_type": "code",
   "execution_count": 10,
   "metadata": {},
   "outputs": [
    {
     "name": "stdout",
     "output_type": "stream",
     "text": [
      "0\n",
      "1\n",
      "2\n",
      "3\n",
      "4\n",
      "5\n",
      "6\n",
      "7\n",
      "8\n",
      "9\n",
      "10\n",
      "11\n",
      "12\n",
      "13\n",
      "14\n",
      "15\n",
      "16\n",
      "17\n",
      "18\n",
      "19\n",
      "20\n",
      "21\n",
      "22\n",
      "23\n",
      "24\n",
      "25\n",
      "26\n",
      "27\n",
      "28\n",
      "29\n",
      "30\n",
      "31\n",
      "32\n",
      "33\n",
      "34\n",
      "35\n",
      "36\n",
      "37\n",
      "38\n",
      "39\n",
      "40\n",
      "41\n",
      "42\n",
      "43\n",
      "44\n",
      "45\n",
      "46\n",
      "47\n",
      "48\n",
      "49\n",
      "50\n",
      "51\n",
      "52\n",
      "53\n",
      "54\n",
      "55\n",
      "56\n",
      "57\n",
      "58\n",
      "59\n",
      "60\n",
      "61\n",
      "62\n",
      "63\n",
      "64\n",
      "65\n",
      "66\n",
      "67\n",
      "68\n",
      "69\n",
      "70\n",
      "71\n",
      "72\n",
      "73\n",
      "74\n",
      "75\n",
      "76\n",
      "77\n",
      "78\n",
      "79\n"
     ]
    }
   ],
   "source": [
    "address_filling = 0\n",
    "\n",
    "for i in range(len(splitted_instrucoes)):\n",
    "    print(address_filling)\n",
    "    \n",
    "    memoria_geral_1[address_filling] = splitted_instrucoes[i][0]\n",
    "    memoria_geral_2[address_filling] = splitted_instrucoes[i][1]\n",
    "    address_filling += 1"
   ]
  },
  {
   "cell_type": "code",
   "execution_count": 11,
   "metadata": {},
   "outputs": [],
   "source": [
    "import numpy as np"
   ]
  },
  {
   "cell_type": "code",
   "execution_count": 12,
   "metadata": {},
   "outputs": [],
   "source": [
    "memoria_geral_1_f = np.array_split(memoria_geral_1, 512)\n",
    "memoria_geral_2_f = np.array_split(memoria_geral_2, 512)"
   ]
  },
  {
   "cell_type": "code",
   "execution_count": 13,
   "metadata": {},
   "outputs": [],
   "source": [
    "memoria_geral_1_f = \"\\n\".join([\" \".join(list(a)) for a in memoria_geral_1_f])\n",
    "memoria_geral_2_f = \"\\n\".join([\" \".join(list(a)) for a in memoria_geral_2_f])"
   ]
  },
  {
   "cell_type": "code",
   "execution_count": 14,
   "metadata": {},
   "outputs": [],
   "source": [
    "memoria_geral_1_f = \"#------------------------------------------------------------\\n#- Deeds (Digital Electronics Education and Design Suite)\\n#- Rom Contents Saved on (4/5/2022, 1:47:00 PM)\\n#-      by Deeds (Digital Circuit Simulator)(Deeds-DcS)\\n#-      Ver. 2.50.200 (Feb 18, 2022)\\n#- Copyright (c) 2002-2022 University of Genoa, Italy\\n#-      Web Site:  https://www.digitalelectronicsdeeds.com\\n#------------------------------------------------------------\\n#R ROM4Kx16, id 031F\\n#- Deeds Rom Source Format (*.drs)\\n\\n#A 0000h\\n#H\\n\\n\" + memoria_geral_1_f\n",
    "memoria_geral_2_f = \"#------------------------------------------------------------\\n#- Deeds (Digital Electronics Education and Design Suite)\\n#- Rom Contents Saved on (4/5/2022, 1:47:00 PM)\\n#-      by Deeds (Digital Circuit Simulator)(Deeds-DcS)\\n#-      Ver. 2.50.200 (Feb 18, 2022)\\n#- Copyright (c) 2002-2022 University of Genoa, Italy\\n#-      Web Site:  https://www.digitalelectronicsdeeds.com\\n#------------------------------------------------------------\\n#R ROM4Kx16, id 031F\\n#- Deeds Rom Source Format (*.drs)\\n\\n#A 0000h\\n#H\\n\\n\" + memoria_geral_2_f"
   ]
  },
  {
   "cell_type": "code",
   "execution_count": 15,
   "metadata": {},
   "outputs": [],
   "source": [
    "text_file_1 = open(\"testes_v1_mem_msb.drs\", \"w\")\n",
    "text_file_1.write(memoria_geral_1_f)\n",
    "text_file_1.close()"
   ]
  },
  {
   "cell_type": "code",
   "execution_count": 16,
   "metadata": {},
   "outputs": [],
   "source": [
    "text_file_2 = open(\"testes_v1_mem_lsb.drs\", \"w\")\n",
    "text_file_2.write(memoria_geral_2_f)\n",
    "text_file_2.close()"
   ]
  },
  {
   "cell_type": "code",
   "execution_count": null,
   "metadata": {},
   "outputs": [],
   "source": []
  }
 ],
 "metadata": {
  "kernelspec": {
   "display_name": "Python 3",
   "language": "python",
   "name": "python3"
  },
  "language_info": {
   "codemirror_mode": {
    "name": "ipython",
    "version": 3
   },
   "file_extension": ".py",
   "mimetype": "text/x-python",
   "name": "python",
   "nbconvert_exporter": "python",
   "pygments_lexer": "ipython3",
   "version": "3.8.10"
  }
 },
 "nbformat": 4,
 "nbformat_minor": 4
}
